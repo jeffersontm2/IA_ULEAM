{
  "nbformat": 4,
  "nbformat_minor": 0,
  "metadata": {
    "colab": {
      "provenance": [],
      "authorship_tag": "ABX9TyPPelPXZYBPelJwlVbwbz/T",
      "include_colab_link": true
    },
    "kernelspec": {
      "name": "python3",
      "display_name": "Python 3"
    },
    "language_info": {
      "name": "python"
    }
  },
  "cells": [
    {
      "cell_type": "markdown",
      "metadata": {
        "id": "view-in-github",
        "colab_type": "text"
      },
      "source": [
        "<a href=\"https://colab.research.google.com/github/jeffersontm2/IA_ULEAM/blob/main/Numpy_IA.ipynb\" target=\"_parent\"><img src=\"https://colab.research.google.com/assets/colab-badge.svg\" alt=\"Open In Colab\"/></a>"
      ]
    },
    {
      "cell_type": "markdown",
      "source": [
        "1. Import numpy as np and see the version\n",
        "\n",
        "```\n",
        "# Tiene formato de código\n",
        "```\n",
        "\n"
      ],
      "metadata": {
        "id": "OaSqnaoaHCmn"
      }
    },
    {
      "cell_type": "code",
      "source": [
        "import numpy as np\n",
        "\n",
        "print(np.__version__)"
      ],
      "metadata": {
        "colab": {
          "base_uri": "https://localhost:8080/"
        },
        "id": "LsRGy7miHGM8",
        "outputId": "a133fd4c-469e-4c15-af97-a586dd42db09"
      },
      "execution_count": 1,
      "outputs": [
        {
          "output_type": "stream",
          "name": "stdout",
          "text": [
            "1.22.4\n"
          ]
        }
      ]
    },
    {
      "cell_type": "markdown",
      "source": [
        "2. Create a 1D array of numbers from 0 to 9"
      ],
      "metadata": {
        "id": "t-hLROZcHb2Q"
      }
    },
    {
      "cell_type": "code",
      "source": [
        "import numpy as np\n",
        "\n",
        "array_1d = np.array([0, 1, 2, 3, 4, 5, 6, 7, 8, 9])\n",
        "\n",
        "print(array_1d)"
      ],
      "metadata": {
        "colab": {
          "base_uri": "https://localhost:8080/"
        },
        "id": "0hp9hAQcHg6b",
        "outputId": "37eb54e3-069f-4dc5-8e82-59fc614d33ed"
      },
      "execution_count": 2,
      "outputs": [
        {
          "output_type": "stream",
          "name": "stdout",
          "text": [
            "[0 1 2 3 4 5 6 7 8 9]\n"
          ]
        }
      ]
    },
    {
      "cell_type": "markdown",
      "source": [
        "3. Create a 3×3 numpy array of all True’s"
      ],
      "metadata": {
        "id": "zHDjZpxlHxDw"
      }
    },
    {
      "cell_type": "code",
      "source": [
        "array_3x3 = np.full((3, 3), True, dtype=bool)\n",
        "\n",
        "print(array_3x3)"
      ],
      "metadata": {
        "colab": {
          "base_uri": "https://localhost:8080/"
        },
        "id": "weuyXf52H52b",
        "outputId": "e85773f5-42f3-4830-e94b-dbb6a8cabc30"
      },
      "execution_count": 3,
      "outputs": [
        {
          "output_type": "stream",
          "name": "stdout",
          "text": [
            "[[ True  True  True]\n",
            " [ True  True  True]\n",
            " [ True  True  True]]\n"
          ]
        }
      ]
    },
    {
      "cell_type": "markdown",
      "source": [
        "4. Extract all odd numbers from arr"
      ],
      "metadata": {
        "id": "4ysDzdNOIqZq"
      }
    },
    {
      "cell_type": "code",
      "source": [
        "odd_numbers = array_1d[array_1d % 2 != 0]\n",
        "\n",
        "print(odd_numbers)"
      ],
      "metadata": {
        "colab": {
          "base_uri": "https://localhost:8080/"
        },
        "id": "aKxKajsJI3cZ",
        "outputId": "90609a99-6f14-4a06-a48e-b965f55cbfc0"
      },
      "execution_count": 5,
      "outputs": [
        {
          "output_type": "stream",
          "name": "stdout",
          "text": [
            "[1 3 5 7 9]\n"
          ]
        }
      ]
    },
    {
      "cell_type": "markdown",
      "source": [
        "5. Replace all odd numbers in arr with -1"
      ],
      "metadata": {
        "id": "VBZo-ffGJ6gs"
      }
    },
    {
      "cell_type": "code",
      "source": [
        "array_1d[array_1d % 2 != 0] = -1\n",
        "\n",
        "print(array_1d)"
      ],
      "metadata": {
        "colab": {
          "base_uri": "https://localhost:8080/"
        },
        "id": "rbAKgyB-KA5m",
        "outputId": "79e97fd5-5f11-4b27-ad67-56282fc1767b"
      },
      "execution_count": 7,
      "outputs": [
        {
          "output_type": "stream",
          "name": "stdout",
          "text": [
            "[ 0 -1  2 -1  4 -1  6 -1  8 -1]\n"
          ]
        }
      ]
    },
    {
      "cell_type": "markdown",
      "source": [
        "6. Convert a 1D array to a 2D array with 2 rows"
      ],
      "metadata": {
        "id": "R20FkSc1PFgq"
      }
    },
    {
      "cell_type": "code",
      "source": [
        "arr_1d = np.array([1, 2, 3, 4, 5, 6])\n",
        "\n",
        "arr_2d = np.reshape(arr_1d, (2, -1))\n",
        "\n",
        "print(arr_2d)"
      ],
      "metadata": {
        "colab": {
          "base_uri": "https://localhost:8080/"
        },
        "id": "W1NCnOZuPI2h",
        "outputId": "50e7123a-da08-4a50-c64e-78f77ce467b8"
      },
      "execution_count": 8,
      "outputs": [
        {
          "output_type": "stream",
          "name": "stdout",
          "text": [
            "[[1 2 3]\n",
            " [4 5 6]]\n"
          ]
        }
      ]
    },
    {
      "cell_type": "markdown",
      "source": [
        "7. Stack arrays a and b vertically"
      ],
      "metadata": {
        "id": "EWoFVzXqPiz5"
      }
    },
    {
      "cell_type": "code",
      "source": [
        "a = np.array([1, 2, 3])\n",
        "b = np.array([4, 5, 6])\n",
        "\n",
        "stacked = np.vstack((a, b))\n",
        "\n",
        "print(stacked)"
      ],
      "metadata": {
        "colab": {
          "base_uri": "https://localhost:8080/"
        },
        "id": "8BPwTEaiPnYV",
        "outputId": "6d18555c-134e-4914-ecf9-a7fd2232d325"
      },
      "execution_count": 9,
      "outputs": [
        {
          "output_type": "stream",
          "name": "stdout",
          "text": [
            "[[1 2 3]\n",
            " [4 5 6]]\n"
          ]
        }
      ]
    },
    {
      "cell_type": "markdown",
      "source": [
        "8. Stack the arrays a and b horizontally."
      ],
      "metadata": {
        "id": "pIOkDB2RP9BX"
      }
    },
    {
      "cell_type": "code",
      "source": [
        "a = np.array([1, 2, 3])\n",
        "b = np.array([4, 5, 6])\n",
        "\n",
        "vertical = np.hstack((a, b))\n",
        "\n",
        "print(vertical)"
      ],
      "metadata": {
        "colab": {
          "base_uri": "https://localhost:8080/"
        },
        "id": "Uo-4K3ScQEWn",
        "outputId": "be84009a-c0ba-4348-a79e-9253f60831ca"
      },
      "execution_count": 10,
      "outputs": [
        {
          "output_type": "stream",
          "name": "stdout",
          "text": [
            "[1 2 3 4 5 6]\n"
          ]
        }
      ]
    },
    {
      "cell_type": "markdown",
      "source": [
        "9. Get all items between 5 and 10 from a."
      ],
      "metadata": {
        "id": "0pmAHtc8QhZn"
      }
    },
    {
      "cell_type": "code",
      "source": [
        "a = np.array([1, 2, 3, 4, 5, 6, 7, 8, 9, 10])\n",
        "\n",
        "resultado_5a_10 = a[(a >= 5) & (a <= 10)]\n",
        "\n",
        "print(resultado_5a_10)"
      ],
      "metadata": {
        "colab": {
          "base_uri": "https://localhost:8080/"
        },
        "id": "aq_-FOzqQk9-",
        "outputId": "639c5243-3e0f-48a6-c865-38573b2ce992"
      },
      "execution_count": 12,
      "outputs": [
        {
          "output_type": "stream",
          "name": "stdout",
          "text": [
            "[ 5  6  7  8  9 10]\n"
          ]
        }
      ]
    },
    {
      "cell_type": "markdown",
      "source": [
        "10. 10. How to make a python function that handles scalars to work on numpy arrays?\n",
        "# Hint\n",
        "# Desired Output:\n",
        "#a = np.array([5, 7, 9, 8, 6, 4, 5])\n",
        "#b = np.array([6, 3, 4, 8, 9, 7, 1])\n",
        "#b = np.array([6, 3, 4, 8, 9, 7, 1])\n",
        "#pair_max(a, b)\n",
        "#array([ 6.,  7.,  9.,  8.,  9.,  7.,  5.])"
      ],
      "metadata": {
        "id": "TuPpkPq6RG6l"
      }
    },
    {
      "cell_type": "code",
      "source": [
        "def pair_max(a, b):\n",
        "    return np.maximum(a, b)\n",
        "a = np.array([5, 7, 9, 8, 6, 4, 5])\n",
        "b = np.array([6, 3, 4, 8, 9, 7, 1])\n",
        "r = pair_max(a, b)\n",
        "print(r)"
      ],
      "metadata": {
        "colab": {
          "base_uri": "https://localhost:8080/"
        },
        "id": "-yBE4rmZRzXf",
        "outputId": "39678252-da68-463d-cab0-a7bdf4fd18b9"
      },
      "execution_count": 20,
      "outputs": [
        {
          "output_type": "stream",
          "name": "stdout",
          "text": [
            "[6 7 9 8 9 7 5]\n"
          ]
        }
      ]
    },
    {
      "cell_type": "markdown",
      "source": [
        "11.Swap columns 1 and 2 in the array arr."
      ],
      "metadata": {
        "id": "DtSDtIsVTiWg"
      }
    },
    {
      "cell_type": "code",
      "source": [
        "arr = np.array([[0, 1, 2],\n",
        "                [3, 4, 5],\n",
        "                [6, 7, 8]])\n",
        "arr[:, [1, 2]] = arr[:, [2, 1]]\n",
        "\n",
        "print(arr)"
      ],
      "metadata": {
        "colab": {
          "base_uri": "https://localhost:8080/"
        },
        "id": "KmclvOoLTs4U",
        "outputId": "a0a6564a-2197-4c2c-d915-2d5bc7391f8d"
      },
      "execution_count": 22,
      "outputs": [
        {
          "output_type": "stream",
          "name": "stdout",
          "text": [
            "[[0 2 1]\n",
            " [3 5 4]\n",
            " [6 8 7]]\n"
          ]
        }
      ]
    },
    {
      "cell_type": "markdown",
      "source": [
        "12. Create a 2D array of shape 5x3 to contain random decimal numbers between 5 and\n",
        "# Hint\n",
        "# The desired Output should be like the following one:\n",
        "#  [[ 8.50061025  9.10531502  6.85867783]\n",
        "#   [ 9.76262069  9.87717411  7.13466701]\n",
        "#   [ 7.48966403  8.33409158  6.16808631]\n",
        "#   [ 7.75010551  9.94535696  5.27373226]\n",
        "#   [ 8.0850361   5.56165518  7.31244004]]"
      ],
      "metadata": {
        "id": "eNfWYlgGUUQW"
      }
    },
    {
      "cell_type": "code",
      "source": [
        "arr = np.random.uniform(5, 10, size=(5, 3))\n",
        "\n",
        "print(arr)"
      ],
      "metadata": {
        "colab": {
          "base_uri": "https://localhost:8080/"
        },
        "id": "TFnu_9CzUyGz",
        "outputId": "44d455cc-5c2e-48dc-cb06-cee36c1998c2"
      },
      "execution_count": 23,
      "outputs": [
        {
          "output_type": "stream",
          "name": "stdout",
          "text": [
            "[[9.82189961 8.29557411 6.39188789]\n",
            " [9.68781972 7.5572701  8.12726762]\n",
            " [7.75633404 9.9879847  8.59104333]\n",
            " [8.31516429 6.38977587 5.16865381]\n",
            " [6.4924046  8.79311907 8.76043143]]\n"
          ]
        }
      ]
    }
  ]
}